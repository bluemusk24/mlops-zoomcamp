{
 "cells": [
  {
   "cell_type": "code",
   "execution_count": 1,
   "id": "2e25cf66",
   "metadata": {},
   "outputs": [],
   "source": [
    "import pickle\n",
    "import pandas as pd\n",
    "import os \n",
    "import uuid\n",
    "\n",
    "import mlflow\n",
    "\n",
    "from sklearn.feature_extraction import DictVectorizer\n",
    "from sklearn.ensemble import RandomForestRegressor\n",
    "from sklearn.metrics import mean_squared_error\n",
    "from sklearn.pipeline import make_pipeline"
   ]
  },
  {
   "cell_type": "markdown",
   "id": "b52a83b3-2c5d-4264-ad7d-95c83c547877",
   "metadata": {},
   "source": [
    "#### Get and run model with its ID from AWS S3 bucket"
   ]
  },
  {
   "cell_type": "code",
   "execution_count": 2,
   "id": "041e9423",
   "metadata": {},
   "outputs": [],
   "source": [
    "RUN_ID = os.getenv('RUN_ID','729cc0899e22468bbe0bf20321b84225')    #'729cc0899e22468bbe0bf20321b84225'\n",
    "\n",
    "# model from aws s3 bucket\n",
    "logged_model = f's3://mlops-remote-bucket/3/{RUN_ID}/artifacts/model'\n",
    "\n",
    "# Load model as a PyFuncModel.\n",
    "model = mlflow.pyfunc.load_model(logged_model)"
   ]
  },
  {
   "cell_type": "code",
   "execution_count": 3,
   "id": "00e6c101-93d0-49e8-b36e-92413c330a09",
   "metadata": {},
   "outputs": [
    {
     "data": {
      "text/plain": [
       "mlflow.pyfunc.loaded_model:\n",
       "  artifact_path: model\n",
       "  flavor: mlflow.sklearn\n",
       "  run_id: 729cc0899e22468bbe0bf20321b84225"
      ]
     },
     "execution_count": 3,
     "metadata": {},
     "output_type": "execute_result"
    }
   ],
   "source": [
    "model                                # check the model for confirmation"
   ]
  },
  {
   "cell_type": "markdown",
   "id": "b95c204d-3be3-4442-971c-81d4111fa747",
   "metadata": {},
   "source": [
    "#### Since we want to apply/check how the predicted values differs from actual, we keep target variable duration, But in real world, we omit the target varaible, since it's our prediction. "
   ]
  },
  {
   "cell_type": "code",
   "execution_count": 4,
   "id": "b9666e19",
   "metadata": {},
   "outputs": [],
   "source": [
    "def read_dataframe(filename: str):\n",
    "    df = pd.read_parquet(filename)\n",
    "\n",
    "    df['duration'] = df.lpep_dropoff_datetime - df.lpep_pickup_datetime\n",
    "    df.duration = df.duration.dt.total_seconds() / 60\n",
    "    df = df[(df.duration >= 1) & (df.duration <= 60)]\n",
    "    return df\n",
    "\n",
    "\n",
    "def prepare_dictionaries(df: pd.DataFrame):\n",
    "    categorical = ['PULocationID', 'DOLocationID']\n",
    "    df[categorical] = df[categorical].astype(str)\n",
    "    \n",
    "    df['PU_DO'] = df['PULocationID'] + '_' + df['DOLocationID']\n",
    "    categorical = ['PU_DO']\n",
    "    numerical = ['trip_distance']\n",
    "    dicts = df[categorical + numerical].to_dict(orient='records')\n",
    "    return dicts"
   ]
  },
  {
   "cell_type": "markdown",
   "id": "014a14ac-f4ef-49cc-9e96-d916847d29ab",
   "metadata": {},
   "source": [
    "#### Since it's model application, there will be no train and val dataset. Just a dataframe df and no target value--duration."
   ]
  },
  {
   "cell_type": "code",
   "execution_count": 5,
   "id": "6b5f0d80",
   "metadata": {},
   "outputs": [],
   "source": [
    "# df_train = read_dataframe('data/green_tripdata_2021-01.parquet')\n",
    "# df_val = read_dataframe('data/green_tripdata_2021-02.parquet')\n",
    "\n",
    "#target = 'duration'\n",
    "#y_train = df_train[target].values\n",
    "#y_val = df_val[target].values\n",
    "\n",
    "#dict_train = prepare_dictionaries(df_train)\n",
    "#dict_val = prepare_dictionaries(df_val)\n",
    "\n",
    "df = read_dataframe('data/green_tripdata_2021-01.parquet')\n",
    "dict = prepare_dictionaries(df)\n",
    "\n",
    "y_pred = model.predict(dict)"
   ]
  },
  {
   "cell_type": "code",
   "execution_count": 6,
   "id": "529caf33",
   "metadata": {},
   "outputs": [
    {
     "data": {
      "text/plain": [
       "array([ 6.86271117, 13.36872083,  6.3608707 , ..., 14.43650924,\n",
       "       37.09262214, 11.10083955])"
      ]
     },
     "execution_count": 6,
     "metadata": {},
     "output_type": "execute_result"
    }
   ],
   "source": [
    "y_pred"
   ]
  },
  {
   "cell_type": "markdown",
   "id": "2c6f6ef6-740c-46b0-a594-c197ce733795",
   "metadata": {},
   "source": [
    "#### We create a result dataframe and write predictions to it. Also, generate a uuid (unique id for each row in a dataframe)"
   ]
  },
  {
   "cell_type": "code",
   "execution_count": 7,
   "id": "b18648af-e95c-4710-950c-e882d28f6a24",
   "metadata": {},
   "outputs": [
    {
     "data": {
      "text/plain": [
       "'611ddf09-e824-433c-ad50-fc3720b381b2'"
      ]
     },
     "execution_count": 7,
     "metadata": {},
     "output_type": "execute_result"
    }
   ],
   "source": [
    "str(uuid.uuid4())                   # this unique number changes when you run over and over"
   ]
  },
  {
   "cell_type": "code",
   "execution_count": 8,
   "id": "06752dba-3bc5-4ef9-8c22-839636dc9fef",
   "metadata": {},
   "outputs": [],
   "source": [
    "# Attach uuid to every row in the dataframe using for loop\n",
    "\n",
    "n = len(df)\n",
    "ride_id = []\n",
    "\n",
    "for i in range(n):\n",
    "    ride_id.append(str(uuid.uuid4()))"
   ]
  },
  {
   "cell_type": "code",
   "execution_count": 9,
   "id": "1227598a-cef0-44c7-8292-4420805ca95c",
   "metadata": {},
   "outputs": [],
   "source": [
    "df['ride_id'] = ride_id            # create a new column with the uuid attached to every row"
   ]
  },
  {
   "cell_type": "code",
   "execution_count": 10,
   "id": "ef41cdd4-d451-4a82-847e-6baea90af28d",
   "metadata": {},
   "outputs": [
    {
     "data": {
      "text/html": [
       "<div>\n",
       "<style scoped>\n",
       "    .dataframe tbody tr th:only-of-type {\n",
       "        vertical-align: middle;\n",
       "    }\n",
       "\n",
       "    .dataframe tbody tr th {\n",
       "        vertical-align: top;\n",
       "    }\n",
       "\n",
       "    .dataframe thead th {\n",
       "        text-align: right;\n",
       "    }\n",
       "</style>\n",
       "<table border=\"1\" class=\"dataframe\">\n",
       "  <thead>\n",
       "    <tr style=\"text-align: right;\">\n",
       "      <th></th>\n",
       "      <th>VendorID</th>\n",
       "      <th>lpep_pickup_datetime</th>\n",
       "      <th>lpep_dropoff_datetime</th>\n",
       "      <th>store_and_fwd_flag</th>\n",
       "      <th>RatecodeID</th>\n",
       "      <th>PULocationID</th>\n",
       "      <th>DOLocationID</th>\n",
       "      <th>passenger_count</th>\n",
       "      <th>trip_distance</th>\n",
       "      <th>fare_amount</th>\n",
       "      <th>...</th>\n",
       "      <th>tolls_amount</th>\n",
       "      <th>ehail_fee</th>\n",
       "      <th>improvement_surcharge</th>\n",
       "      <th>total_amount</th>\n",
       "      <th>payment_type</th>\n",
       "      <th>trip_type</th>\n",
       "      <th>congestion_surcharge</th>\n",
       "      <th>duration</th>\n",
       "      <th>PU_DO</th>\n",
       "      <th>ride_id</th>\n",
       "    </tr>\n",
       "  </thead>\n",
       "  <tbody>\n",
       "    <tr>\n",
       "      <th>0</th>\n",
       "      <td>2</td>\n",
       "      <td>2021-01-01 00:15:56</td>\n",
       "      <td>2021-01-01 00:19:52</td>\n",
       "      <td>N</td>\n",
       "      <td>1.0</td>\n",
       "      <td>43</td>\n",
       "      <td>151</td>\n",
       "      <td>1.0</td>\n",
       "      <td>1.01</td>\n",
       "      <td>5.5</td>\n",
       "      <td>...</td>\n",
       "      <td>0.0</td>\n",
       "      <td>None</td>\n",
       "      <td>0.3</td>\n",
       "      <td>6.80</td>\n",
       "      <td>2.0</td>\n",
       "      <td>1.0</td>\n",
       "      <td>0.00</td>\n",
       "      <td>3.933333</td>\n",
       "      <td>43_151</td>\n",
       "      <td>9d54098d-9674-4449-a591-da6673c41080</td>\n",
       "    </tr>\n",
       "    <tr>\n",
       "      <th>1</th>\n",
       "      <td>2</td>\n",
       "      <td>2021-01-01 00:25:59</td>\n",
       "      <td>2021-01-01 00:34:44</td>\n",
       "      <td>N</td>\n",
       "      <td>1.0</td>\n",
       "      <td>166</td>\n",
       "      <td>239</td>\n",
       "      <td>1.0</td>\n",
       "      <td>2.53</td>\n",
       "      <td>10.0</td>\n",
       "      <td>...</td>\n",
       "      <td>0.0</td>\n",
       "      <td>None</td>\n",
       "      <td>0.3</td>\n",
       "      <td>16.86</td>\n",
       "      <td>1.0</td>\n",
       "      <td>1.0</td>\n",
       "      <td>2.75</td>\n",
       "      <td>8.750000</td>\n",
       "      <td>166_239</td>\n",
       "      <td>4d68f926-1644-4ad7-9339-4429ef28fbef</td>\n",
       "    </tr>\n",
       "  </tbody>\n",
       "</table>\n",
       "<p>2 rows × 23 columns</p>\n",
       "</div>"
      ],
      "text/plain": [
       "   VendorID lpep_pickup_datetime lpep_dropoff_datetime store_and_fwd_flag  \\\n",
       "0         2  2021-01-01 00:15:56   2021-01-01 00:19:52                  N   \n",
       "1         2  2021-01-01 00:25:59   2021-01-01 00:34:44                  N   \n",
       "\n",
       "   RatecodeID PULocationID DOLocationID  passenger_count  trip_distance  \\\n",
       "0         1.0           43          151              1.0           1.01   \n",
       "1         1.0          166          239              1.0           2.53   \n",
       "\n",
       "   fare_amount  ...  tolls_amount  ehail_fee  improvement_surcharge  \\\n",
       "0          5.5  ...           0.0       None                    0.3   \n",
       "1         10.0  ...           0.0       None                    0.3   \n",
       "\n",
       "   total_amount payment_type  trip_type  congestion_surcharge  duration  \\\n",
       "0          6.80          2.0        1.0                  0.00  3.933333   \n",
       "1         16.86          1.0        1.0                  2.75  8.750000   \n",
       "\n",
       "     PU_DO                               ride_id  \n",
       "0   43_151  9d54098d-9674-4449-a591-da6673c41080  \n",
       "1  166_239  4d68f926-1644-4ad7-9339-4429ef28fbef  \n",
       "\n",
       "[2 rows x 23 columns]"
      ]
     },
     "execution_count": 10,
     "metadata": {},
     "output_type": "execute_result"
    }
   ],
   "source": [
    "df.head(2)"
   ]
  },
  {
   "cell_type": "code",
   "execution_count": 11,
   "id": "8e797fac-8fff-44da-b0f5-ef73a9fdc826",
   "metadata": {},
   "outputs": [],
   "source": [
    "df_result = pd.DataFrame()            # result dataframe"
   ]
  },
  {
   "cell_type": "code",
   "execution_count": 12,
   "id": "a46c66c0-3f0e-49d9-a66a-cef93e2f5a8a",
   "metadata": {},
   "outputs": [],
   "source": [
    "df_result['ride_id'] = df['ride_id']                # assigning some features from df to df_results\n",
    "df_result['lpep_pickup_datetime'] = df['lpep_pickup_datetime']\n",
    "df_result['PULocationID'] = df['PULocationID']\n",
    "df_result['DOLocationID'] = df['DOLocationID']\n",
    "df_result['actual_duration'] = df['duration']\n",
    "df_result['predicted_duration'] = y_pred\n",
    "df_result['diff'] = df_result['actual_duration'] - df_result['predicted_duration']\n",
    "df_result['model_version'] = RUN_ID"
   ]
  },
  {
   "cell_type": "code",
   "execution_count": 13,
   "id": "415c4a92-c6b7-422a-b709-fd07eac4f7a5",
   "metadata": {},
   "outputs": [
    {
     "data": {
      "text/html": [
       "<div>\n",
       "<style scoped>\n",
       "    .dataframe tbody tr th:only-of-type {\n",
       "        vertical-align: middle;\n",
       "    }\n",
       "\n",
       "    .dataframe tbody tr th {\n",
       "        vertical-align: top;\n",
       "    }\n",
       "\n",
       "    .dataframe thead th {\n",
       "        text-align: right;\n",
       "    }\n",
       "</style>\n",
       "<table border=\"1\" class=\"dataframe\">\n",
       "  <thead>\n",
       "    <tr style=\"text-align: right;\">\n",
       "      <th></th>\n",
       "      <th>ride_id</th>\n",
       "      <th>lpep_pickup_datetime</th>\n",
       "      <th>PULocationID</th>\n",
       "      <th>DOLocationID</th>\n",
       "      <th>actual_duration</th>\n",
       "      <th>predicted_duration</th>\n",
       "      <th>diff</th>\n",
       "      <th>model_version</th>\n",
       "    </tr>\n",
       "  </thead>\n",
       "  <tbody>\n",
       "    <tr>\n",
       "      <th>0</th>\n",
       "      <td>9d54098d-9674-4449-a591-da6673c41080</td>\n",
       "      <td>2021-01-01 00:15:56</td>\n",
       "      <td>43</td>\n",
       "      <td>151</td>\n",
       "      <td>3.933333</td>\n",
       "      <td>6.862711</td>\n",
       "      <td>-2.929378</td>\n",
       "      <td>729cc0899e22468bbe0bf20321b84225</td>\n",
       "    </tr>\n",
       "    <tr>\n",
       "      <th>1</th>\n",
       "      <td>4d68f926-1644-4ad7-9339-4429ef28fbef</td>\n",
       "      <td>2021-01-01 00:25:59</td>\n",
       "      <td>166</td>\n",
       "      <td>239</td>\n",
       "      <td>8.750000</td>\n",
       "      <td>13.368721</td>\n",
       "      <td>-4.618721</td>\n",
       "      <td>729cc0899e22468bbe0bf20321b84225</td>\n",
       "    </tr>\n",
       "    <tr>\n",
       "      <th>2</th>\n",
       "      <td>89cd4769-4c0e-4026-82ed-01a402c9f971</td>\n",
       "      <td>2021-01-01 00:45:57</td>\n",
       "      <td>41</td>\n",
       "      <td>42</td>\n",
       "      <td>5.966667</td>\n",
       "      <td>6.360871</td>\n",
       "      <td>-0.394204</td>\n",
       "      <td>729cc0899e22468bbe0bf20321b84225</td>\n",
       "    </tr>\n",
       "  </tbody>\n",
       "</table>\n",
       "</div>"
      ],
      "text/plain": [
       "                                ride_id lpep_pickup_datetime PULocationID  \\\n",
       "0  9d54098d-9674-4449-a591-da6673c41080  2021-01-01 00:15:56           43   \n",
       "1  4d68f926-1644-4ad7-9339-4429ef28fbef  2021-01-01 00:25:59          166   \n",
       "2  89cd4769-4c0e-4026-82ed-01a402c9f971  2021-01-01 00:45:57           41   \n",
       "\n",
       "  DOLocationID  actual_duration  predicted_duration      diff  \\\n",
       "0          151         3.933333            6.862711 -2.929378   \n",
       "1          239         8.750000           13.368721 -4.618721   \n",
       "2           42         5.966667            6.360871 -0.394204   \n",
       "\n",
       "                      model_version  \n",
       "0  729cc0899e22468bbe0bf20321b84225  \n",
       "1  729cc0899e22468bbe0bf20321b84225  \n",
       "2  729cc0899e22468bbe0bf20321b84225  "
      ]
     },
     "execution_count": 13,
     "metadata": {},
     "output_type": "execute_result"
    }
   ],
   "source": [
    "df_result.head(3)"
   ]
  },
  {
   "cell_type": "markdown",
   "id": "a5a66699-dadb-44f8-9ba2-3e61301f6841",
   "metadata": {},
   "source": [
    "#### WE save the df_result got above in parquet format"
   ]
  },
  {
   "cell_type": "code",
   "execution_count": 14,
   "id": "4a7e68ac-cfea-4419-8850-880bdcefd2a4",
   "metadata": {},
   "outputs": [
    {
     "name": "stdout",
     "output_type": "stream",
     "text": [
      "mkdir: cannot create directory ‘output’: File exists\n"
     ]
    }
   ],
   "source": [
    "!mkdir output"
   ]
  },
  {
   "cell_type": "code",
   "execution_count": 15,
   "id": "4c8e5b0d-e2ed-4a41-89be-2527c48ef5c9",
   "metadata": {},
   "outputs": [],
   "source": [
    "df_result.to_parquet('output/green_tripdata_2021-01.parquet') "
   ]
  },
  {
   "cell_type": "markdown",
   "id": "46a1372d-b97a-4ef8-a7f9-a820f1d293bf",
   "metadata": {},
   "source": [
    "#### replace the data of df and df_results as input and output files with variables. url can also be used as input file since pandas reads url\n",
    "#### Pandas downloads the NYC dataset and reads without us downloading it. 04d is 4-digit and 02d is 2-digit\n",
    "#### Putting all the above in a function and cleaning"
   ]
  },
  {
   "cell_type": "code",
   "execution_count": 16,
   "id": "e0fdb55e-c3f3-42d6-96b2-a3be451fa124",
   "metadata": {},
   "outputs": [],
   "source": [
    "year = 2021\n",
    "month = 3\n",
    "taxi_type = 'green'\n",
    "\n",
    "input_file = f'https://d37ci6vzurychx.cloudfront.net/trip-data/{taxi_type}_tripdata_{year:04d}-{month:02d}.parquet'\n",
    "output_file = f'output/{taxi_type}_tripdata_{year:04d}-{month:02d}.parquet'\n",
    "\n",
    "RUN_ID = os.getenv('RUN_ID','729cc0899e22468bbe0bf20321b84225')"
   ]
  },
  {
   "cell_type": "code",
   "execution_count": 17,
   "id": "340c8594-5ac3-494b-97f0-290a7ef92abe",
   "metadata": {},
   "outputs": [
    {
     "data": {
      "text/plain": [
       "('https://d37ci6vzurychx.cloudfront.net/trip-data/green_tripdata_2021-03.parquet',\n",
       " 'output/green_tripdata_2021-03.parquet')"
      ]
     },
     "execution_count": 17,
     "metadata": {},
     "output_type": "execute_result"
    }
   ],
   "source": [
    "input_file, output_file"
   ]
  },
  {
   "cell_type": "code",
   "execution_count": 28,
   "id": "a1d4ce5b-e87d-4257-8b98-6cbe26346b4e",
   "metadata": {},
   "outputs": [],
   "source": [
    "def generate_uuid(n):\n",
    "    ride_id = []\n",
    "    for i in range(n):\n",
    "        ride_id.append(str(uuid.uuid4()))\n",
    "    return ride_id\n",
    "\n",
    "def read_dataframe(filename: str):\n",
    "    df = pd.read_parquet(filename)\n",
    "\n",
    "    df['duration'] = df.lpep_dropoff_datetime - df.lpep_pickup_datetime\n",
    "    df.duration = df.duration.dt.total_seconds() / 60\n",
    "    df = df[(df.duration >= 1) & (df.duration <= 60)]\n",
    "\n",
    "    df['ride_id'] = generate_uuid(len(df))\n",
    "    return df\n",
    "\n",
    "\n",
    "def prepare_dictionaries(df: pd.DataFrame):\n",
    "    categorical = ['PULocationID', 'DOLocationID']\n",
    "    df[categorical] = df[categorical].astype(str)\n",
    "    \n",
    "    df['PU_DO'] = df['PULocationID'] + '_' + df['DOLocationID']\n",
    "    categorical = ['PU_DO']\n",
    "    numerical = ['trip_distance']\n",
    "    dicts = df[categorical + numerical].to_dict(orient='records')\n",
    "    return dicts"
   ]
  },
  {
   "cell_type": "code",
   "execution_count": 29,
   "id": "c6d5e003-0582-432a-ab2f-176a9e75d4b3",
   "metadata": {},
   "outputs": [],
   "source": [
    "def load_model(run_id):\n",
    "    logged_model = f's3://mlops-remote-bucket/3/{RUN_ID}/artifacts/model'\n",
    "    model = mlflow.pyfunc.load_model(logged_model)\n",
    "    return model\n",
    "\n",
    "\n",
    "def apply_model(input_file, run_id, output_file):\n",
    "    df = read_dataframe(input_file)\n",
    "    dict = prepare_dictionaries(df)\n",
    "\n",
    "    model = load_model(run_id)\n",
    "    y_pred = model.predict(dict)\n",
    "\n",
    "    df_result = pd.DataFrame() \n",
    "    df_result['ride_id'] = df['ride_id']                \n",
    "    df_result['lpep_pickup_datetime'] = df['lpep_pickup_datetime']\n",
    "    df_result['PULocationID'] = df['PULocationID']\n",
    "    df_result['DOLocationID'] = df['DOLocationID']\n",
    "    df_result['actual_duration'] = df['duration']\n",
    "    df_result['predicted_duration'] = y_pred\n",
    "    df_result['diff'] = df_result['actual_duration'] - df_result['predicted_duration']\n",
    "    df_result['model_version'] = run_id\n",
    "\n",
    "    df_result.to_parquet(output_file, index=False)"
   ]
  },
  {
   "cell_type": "code",
   "execution_count": 30,
   "id": "8b8d7d08-9be9-40cb-bbdf-9e014d9bbf66",
   "metadata": {},
   "outputs": [],
   "source": [
    "# test/call the apply model function\n",
    "\n",
    "apply_model(input_file=input_file, run_id=RUN_ID, output_file=output_file)"
   ]
  },
  {
   "cell_type": "code",
   "execution_count": 32,
   "id": "1feb567a-1715-44ee-aa95-a6dafb2aa335",
   "metadata": {},
   "outputs": [
    {
     "name": "stdout",
     "output_type": "stream",
     "text": [
      "green_tripdata_2021-01.parquet\tgreen_tripdata_2021-03.parquet\n",
      "green_tripdata_2021-02.parquet\n"
     ]
    }
   ],
   "source": [
    "!ls output                            "
   ]
  },
  {
   "cell_type": "code",
   "execution_count": 27,
   "id": "d8c6db34-2463-4269-aa21-a6e9c073969c",
   "metadata": {},
   "outputs": [],
   "source": [
    "# to execute for February..... run the above codes again\n",
    "\n",
    "year = 2021\n",
    "month = 2\n",
    "taxi_type = 'green'\n",
    "\n",
    "input_file = f'https://d37ci6vzurychx.cloudfront.net/trip-data/{taxi_type}_tripdata_{year:04d}-{month:02d}.parquet'\n",
    "output_file = f'output/{taxi_type}_tripdata_{year:04d}-{month:02d}.parquet'\n",
    "\n",
    "RUN_ID = os.getenv('RUN_ID','729cc0899e22468bbe0bf20321b84225')"
   ]
  },
  {
   "cell_type": "code",
   "execution_count": null,
   "id": "4c0a9db3-949e-428c-a098-1cccb150feea",
   "metadata": {},
   "outputs": [],
   "source": []
  }
 ],
 "metadata": {
  "kernelspec": {
   "display_name": "Python 3 (ipykernel)",
   "language": "python",
   "name": "python3"
  },
  "language_info": {
   "codemirror_mode": {
    "name": "ipython",
    "version": 3
   },
   "file_extension": ".py",
   "mimetype": "text/x-python",
   "name": "python",
   "nbconvert_exporter": "python",
   "pygments_lexer": "ipython3",
   "version": "3.10.12"
  }
 },
 "nbformat": 4,
 "nbformat_minor": 5
}
