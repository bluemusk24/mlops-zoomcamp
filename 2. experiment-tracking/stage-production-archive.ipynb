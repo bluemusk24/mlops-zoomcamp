{
 "cells": [
  {
   "cell_type": "code",
   "execution_count": 1,
   "metadata": {},
   "outputs": [],
   "source": [
    "import mlflow"
   ]
  },
  {
   "cell_type": "code",
   "execution_count": 2,
   "metadata": {},
   "outputs": [],
   "source": [
    "from mlflow.tracking import MlflowClient                     # login to mLflow using MLflowclient class.\n",
    "\n",
    "MLFLOW_TRACKING_URI = 'sqlite:///mlflow.db'                   # grant access to the sqlite artifact models and metadata.\n",
    "\n",
    "client = MlflowClient(tracking_uri=MLFLOW_TRACKING_URI)"
   ]
  },
  {
   "cell_type": "code",
   "execution_count": 4,
   "metadata": {},
   "outputs": [
    {
     "data": {
      "text/plain": [
       "[<Experiment: artifact_location='/workspaces/mlops-zoomcamp/2. experiment-tracking/mlruns/3', creation_time=1710821129507, experiment_id='3', last_update_time=1710821129507, lifecycle_stage='active', name='first-nyc-taxi-experiment', tags={}>,\n",
       " <Experiment: artifact_location='mlflow-artifacts:/0', creation_time=1710730390938, experiment_id='0', last_update_time=1710730390938, lifecycle_stage='active', name='Default', tags={}>]"
      ]
     },
     "execution_count": 4,
     "metadata": {},
     "output_type": "execute_result"
    }
   ],
   "source": [
    "# to check experiment with the client class. It outputs 2 experiments as seen in MLflow ui dashboard\n",
    "\n",
    "client.search_experiments()"
   ]
  },
  {
   "cell_type": "code",
   "execution_count": 6,
   "metadata": {},
   "outputs": [
    {
     "data": {
      "text/plain": [
       "'5'"
      ]
     },
     "execution_count": 6,
     "metadata": {},
     "output_type": "execute_result"
    }
   ],
   "source": [
    "# create a new experiment in the MLflow ui dashboard using python api\n",
    "\n",
    "client.create_experiment(name='my-cool-experiment')"
   ]
  },
  {
   "cell_type": "code",
   "execution_count": 7,
   "metadata": {},
   "outputs": [
    {
     "data": {
      "text/plain": [
       "[<Experiment: artifact_location='/workspaces/mlops-zoomcamp/2. experiment-tracking/mlruns/5', creation_time=1711160238654, experiment_id='5', last_update_time=1711160238654, lifecycle_stage='active', name='my-cool-experiment', tags={}>,\n",
       " <Experiment: artifact_location='/workspaces/mlops-zoomcamp/2. experiment-tracking/mlruns/4', creation_time=1711160122502, experiment_id='4', last_update_time=1711160122502, lifecycle_stage='active', name='cool-experiment', tags={}>,\n",
       " <Experiment: artifact_location='/workspaces/mlops-zoomcamp/2. experiment-tracking/mlruns/3', creation_time=1710821129507, experiment_id='3', last_update_time=1710821129507, lifecycle_stage='active', name='first-nyc-taxi-experiment', tags={}>,\n",
       " <Experiment: artifact_location='mlflow-artifacts:/0', creation_time=1710730390938, experiment_id='0', last_update_time=1710730390938, lifecycle_stage='active', name='Default', tags={}>]"
      ]
     },
     "execution_count": 7,
     "metadata": {},
     "output_type": "execute_result"
    }
   ],
   "source": [
    "client.search_experiments()"
   ]
  },
  {
   "cell_type": "code",
   "execution_count": 38,
   "metadata": {},
   "outputs": [],
   "source": [
    "# get the best active runs, ordered by rmse and without filter.\n",
    "\n",
    "from mlflow.entities import ViewType\n",
    "\n",
    "best_runs = client.search_runs(\n",
    "    experiment_ids='3',\n",
    "    filter_string='',\n",
    "    run_view_type=ViewType.ACTIVE_ONLY,\n",
    "    max_results=4,\n",
    "    order_by=['metrics.rmse ASC']\n",
    ")"
   ]
  },
  {
   "cell_type": "code",
   "execution_count": 39,
   "metadata": {},
   "outputs": [
    {
     "data": {
      "text/plain": [
       "[<Run: data=<RunData: metrics={'rmse': 6.7423033284974245}, params={'train-data-path': 'data/green_tripdata_2021-01.parquet',\n",
       "  'val-data-path': 'data/green_tripdata_2021-02.parquet'}, tags={'developer': 'Eromosele',\n",
       "  'mlflow.log-model.history': '[{\"run_id\": \"4c0b7f27605e45ca8b14f7502cf73e52\", '\n",
       "                              '\"artifact_path\": \"models\", \"utc_time_created\": '\n",
       "                              '\"2024-03-22 22:25:50.931951\", \"flavors\": '\n",
       "                              '{\"python_function\": {\"model_path\": \"model.pkl\", '\n",
       "                              '\"predict_fn\": \"predict\", \"loader_module\": '\n",
       "                              '\"mlflow.sklearn\", \"python_version\": \"3.10.13\", '\n",
       "                              '\"env\": {\"conda\": \"conda.yaml\", \"virtualenv\": '\n",
       "                              '\"python_env.yaml\"}}, \"sklearn\": '\n",
       "                              '{\"pickled_model\": \"model.pkl\", '\n",
       "                              '\"sklearn_version\": \"1.4.0\", '\n",
       "                              '\"serialization_format\": \"cloudpickle\", \"code\": '\n",
       "                              'null}}, \"model_uuid\": '\n",
       "                              '\"6d8a1613d1f945b19772ac9829fd881f\", '\n",
       "                              '\"mlflow_version\": \"2.11.1\", \"model_size_bytes\": '\n",
       "                              '130757}]',\n",
       "  'mlflow.note.content': 'Gradient Boosting Regressor experiment',\n",
       "  'mlflow.runName': 'agreeable-perch-730',\n",
       "  'mlflow.source.name': '/home/codespace/.local/lib/python3.10/site-packages/ipykernel_launcher.py',\n",
       "  'mlflow.source.type': 'LOCAL',\n",
       "  'mlflow.user': 'codespace'}>, info=<RunInfo: artifact_uri=('/workspaces/mlops-zoomcamp/2. '\n",
       "  'experiment-tracking/mlruns/3/4c0b7f27605e45ca8b14f7502cf73e52/artifacts'), end_time=1711146352788, experiment_id='3', lifecycle_stage='active', run_id='4c0b7f27605e45ca8b14f7502cf73e52', run_name='agreeable-perch-730', run_uuid='4c0b7f27605e45ca8b14f7502cf73e52', start_time=1711146347303, status='FINISHED', user_id='codespace'>, inputs=<RunInputs: dataset_inputs=[]>>,\n",
       " <Run: data=<RunData: metrics={'rmse': 6.91061693618384}, params={'train-data-path': 'data/green_tripdata_2021-01.parquet',\n",
       "  'val-data-path': 'data/green_tripdata_2021-02.parquet'}, tags={'developer': 'Eromosele',\n",
       "  'mlflow.log-model.history': '[{\"run_id\": \"005192b72ed64163891853177fe5a10c\", '\n",
       "                              '\"artifact_path\": \"models\", \"utc_time_created\": '\n",
       "                              '\"2024-03-22 22:25:32.148507\", \"flavors\": '\n",
       "                              '{\"python_function\": {\"model_path\": \"model.pkl\", '\n",
       "                              '\"predict_fn\": \"predict\", \"loader_module\": '\n",
       "                              '\"mlflow.sklearn\", \"python_version\": \"3.10.13\", '\n",
       "                              '\"env\": {\"conda\": \"conda.yaml\", \"virtualenv\": '\n",
       "                              '\"python_env.yaml\"}}, \"sklearn\": '\n",
       "                              '{\"pickled_model\": \"model.pkl\", '\n",
       "                              '\"sklearn_version\": \"1.4.0\", '\n",
       "                              '\"serialization_format\": \"cloudpickle\", \"code\": '\n",
       "                              'null}}, \"model_uuid\": '\n",
       "                              '\"d0dab4f8913a43ad8f914e367b321ccd\", '\n",
       "                              '\"mlflow_version\": \"2.11.1\", \"model_size_bytes\": '\n",
       "                              '542823471}]',\n",
       "  'mlflow.note.content': 'Random Forest Regressor experiment',\n",
       "  'mlflow.runName': 'ambitious-swan-720',\n",
       "  'mlflow.source.name': '/home/codespace/.local/lib/python3.10/site-packages/ipykernel_launcher.py',\n",
       "  'mlflow.source.type': 'LOCAL',\n",
       "  'mlflow.user': 'codespace'}>, info=<RunInfo: artifact_uri=('/workspaces/mlops-zoomcamp/2. '\n",
       "  'experiment-tracking/mlruns/3/005192b72ed64163891853177fe5a10c/artifacts'), end_time=1711146346472, experiment_id='3', lifecycle_stage='active', run_id='005192b72ed64163891853177fe5a10c', run_name='ambitious-swan-720', run_uuid='005192b72ed64163891853177fe5a10c', start_time=1711145668631, status='FINISHED', user_id='codespace'>, inputs=<RunInputs: dataset_inputs=[]>>,\n",
       " <Run: data=<RunData: metrics={'rmse': 6.925168771319825}, params={'train-data-path': 'data/green_tripdata_2021-01.parquet',\n",
       "  'val-data-path': 'data/green_tripdata_2021-02.parquet'}, tags={'developer': 'Eromosele',\n",
       "  'mlflow.log-model.history': '[{\"run_id\": \"121383de0e8d4b9bbc5c9975b54554a8\", '\n",
       "                              '\"artifact_path\": \"models\", \"utc_time_created\": '\n",
       "                              '\"2024-03-22 22:54:24.765793\", \"flavors\": '\n",
       "                              '{\"python_function\": {\"model_path\": \"model.pkl\", '\n",
       "                              '\"predict_fn\": \"predict\", \"loader_module\": '\n",
       "                              '\"mlflow.sklearn\", \"python_version\": \"3.10.13\", '\n",
       "                              '\"env\": {\"conda\": \"conda.yaml\", \"virtualenv\": '\n",
       "                              '\"python_env.yaml\"}}, \"sklearn\": '\n",
       "                              '{\"pickled_model\": \"model.pkl\", '\n",
       "                              '\"sklearn_version\": \"1.4.0\", '\n",
       "                              '\"serialization_format\": \"cloudpickle\", \"code\": '\n",
       "                              'null}}, \"model_uuid\": '\n",
       "                              '\"23f03ecf159c476da803e06aeab62c2b\", '\n",
       "                              '\"mlflow_version\": \"2.11.1\", \"model_size_bytes\": '\n",
       "                              '833412304}]',\n",
       "  'mlflow.runName': 'classy-stork-751',\n",
       "  'mlflow.source.name': '/home/codespace/.local/lib/python3.10/site-packages/ipykernel_launcher.py',\n",
       "  'mlflow.source.type': 'LOCAL',\n",
       "  'mlflow.user': 'codespace'}>, info=<RunInfo: artifact_uri=('/workspaces/mlops-zoomcamp/2. '\n",
       "  'experiment-tracking/mlruns/3/121383de0e8d4b9bbc5c9975b54554a8/artifacts'), end_time=1711148100824, experiment_id='3', lifecycle_stage='active', run_id='121383de0e8d4b9bbc5c9975b54554a8', run_name='classy-stork-751', run_uuid='121383de0e8d4b9bbc5c9975b54554a8', start_time=1711146352818, status='FINISHED', user_id='codespace'>, inputs=<RunInputs: dataset_inputs=[]>>,\n",
       " <Run: data=<RunData: metrics={'rmse': 9.233436225720547}, params={'alpha': '0.001',\n",
       "  'train-data-path': 'data/green_tripdata_2021-01.parquet',\n",
       "  'val-data-path': 'data/green_tripdata_2021-02.parquet'}, tags={'developer': 'Emmanuel',\n",
       "  'mlflow.runName': 'gentle-stag-148',\n",
       "  'mlflow.source.name': '/home/codespace/.local/lib/python3.10/site-packages/ipykernel_launcher.py',\n",
       "  'mlflow.source.type': 'LOCAL',\n",
       "  'mlflow.user': 'codespace'}>, info=<RunInfo: artifact_uri=('/workspaces/mlops-zoomcamp/2. '\n",
       "  'experiment-tracking/mlruns/3/cb4903f280b443de8e7b33eb3d684bca/artifacts'), end_time=1710821349047, experiment_id='3', lifecycle_stage='active', run_id='cb4903f280b443de8e7b33eb3d684bca', run_name='gentle-stag-148', run_uuid='cb4903f280b443de8e7b33eb3d684bca', start_time=1710821336984, status='FINISHED', user_id='codespace'>, inputs=<RunInputs: dataset_inputs=[]>>]"
      ]
     },
     "execution_count": 39,
     "metadata": {},
     "output_type": "execute_result"
    }
   ],
   "source": [
    "best_runs"
   ]
  },
  {
   "cell_type": "code",
   "execution_count": 43,
   "metadata": {},
   "outputs": [
    {
     "name": "stdout",
     "output_type": "stream",
     "text": [
      "run-id: 4c0b7f27605e45ca8b14f7502cf73e52\n",
      "run-id: 005192b72ed64163891853177fe5a10c\n",
      "run-id: 121383de0e8d4b9bbc5c9975b54554a8\n",
      "run-id: cb4903f280b443de8e7b33eb3d684bca\n"
     ]
    }
   ],
   "source": [
    "# best run results above viewed nicely. it gives 4 output bcos max results was set to 4\n",
    "\n",
    "for run in best_runs:\n",
    "    print(f'run-id: {run.info.run_id}')"
   ]
  },
  {
   "cell_type": "code",
   "execution_count": 48,
   "metadata": {},
   "outputs": [],
   "source": [
    "# get the best active runs, ordered by rmse and filtered by tags\n",
    "\n",
    "from mlflow.entities import ViewType\n",
    "\n",
    "best_runs = client.search_runs(\n",
    "    experiment_ids='3',\n",
    "    filter_string='tags.developer' == 'Eromosele',\n",
    "    run_view_type=ViewType.ACTIVE_ONLY,\n",
    "    max_results=4,\n",
    "    order_by=['metrics.rmse ASC']\n",
    ")"
   ]
  },
  {
   "cell_type": "code",
   "execution_count": 49,
   "metadata": {},
   "outputs": [
    {
     "name": "stdout",
     "output_type": "stream",
     "text": [
      "run-id: 4c0b7f27605e45ca8b14f7502cf73e52\n",
      "run-id: 005192b72ed64163891853177fe5a10c\n",
      "run-id: 121383de0e8d4b9bbc5c9975b54554a8\n",
      "run-id: cb4903f280b443de8e7b33eb3d684bca\n"
     ]
    }
   ],
   "source": [
    "# best run results above viewed nicely\n",
    "\n",
    "for run in best_runs:\n",
    "    print(f'run-id: {run.info.run_id}')"
   ]
  },
  {
   "cell_type": "markdown",
   "metadata": {},
   "source": [
    "#### Promote models to model registry. input a model that's not in the registry"
   ]
  },
  {
   "cell_type": "code",
   "execution_count": 50,
   "metadata": {},
   "outputs": [],
   "source": [
    "import mlflow\n",
    "\n",
    "mlflow.set_tracking_uri(MLFLOW_TRACKING_URI)"
   ]
  },
  {
   "cell_type": "code",
   "execution_count": 52,
   "metadata": {},
   "outputs": [
    {
     "name": "stderr",
     "output_type": "stream",
     "text": [
      "Registered model 'nyc-taxi-regressor' already exists. Creating a new version of this model...\n",
      "Created version '3' of model 'nyc-taxi-regressor'.\n"
     ]
    },
    {
     "data": {
      "text/plain": [
       "<ModelVersion: aliases=[], creation_timestamp=1711165902240, current_stage='None', description=None, last_updated_timestamp=1711165902240, name='nyc-taxi-regressor', run_id='121383de0e8d4b9bbc5c9975b54554a8', run_link=None, source=('/workspaces/mlops-zoomcamp/2. '\n",
       " 'experiment-tracking/mlruns/3/121383de0e8d4b9bbc5c9975b54554a8/artifacts/models'), status='READY', status_message=None, tags={}, user_id=None, version=3>"
      ]
     },
     "execution_count": 52,
     "metadata": {},
     "output_type": "execute_result"
    }
   ],
   "source": [
    "# register a new model into the model registry nyc-taxi-regressor\n",
    "\n",
    "run_id = '121383de0e8d4b9bbc5c9975b54554a8'\n",
    "\n",
    "model_uri = f'runs:/{run_id}/models'\n",
    "\n",
    "mlflow.register_model(model_uri=model_uri, name='nyc-taxi-regressor')"
   ]
  },
  {
   "cell_type": "code",
   "execution_count": 53,
   "metadata": {},
   "outputs": [
    {
     "data": {
      "text/plain": [
       "'runs:/121383de0e8d4b9bbc5c9975b54554a8/models'"
      ]
     },
     "execution_count": 53,
     "metadata": {},
     "output_type": "execute_result"
    }
   ],
   "source": [
    "# model_uri for the added model above into the registry.\n",
    "\n",
    "model_uri"
   ]
  },
  {
   "cell_type": "markdown",
   "metadata": {},
   "source": [
    "#### Transition a model from one stage to another"
   ]
  },
  {
   "cell_type": "code",
   "execution_count": 57,
   "metadata": {},
   "outputs": [
    {
     "name": "stderr",
     "output_type": "stream",
     "text": [
      "/tmp/ipykernel_35381/2412138472.py:4: FutureWarning: ``mlflow.tracking.client.MlflowClient.get_latest_versions`` is deprecated since 2.9.0. Model registry stages will be removed in a future major release. To learn more about the deprecation of model registry stages, see our migration guide here: https://mlflow.org/docs/2.11.1/model-registry.html#migrating-from-stages\n",
      "  latest_version = client.get_latest_versions(name=model_name)\n"
     ]
    },
    {
     "data": {
      "text/plain": [
       "[<ModelVersion: aliases=[], creation_timestamp=1711165902240, current_stage='None', description=None, last_updated_timestamp=1711165902240, name='nyc-taxi-regressor', run_id='121383de0e8d4b9bbc5c9975b54554a8', run_link=None, source=('/workspaces/mlops-zoomcamp/2. '\n",
       "  'experiment-tracking/mlruns/3/121383de0e8d4b9bbc5c9975b54554a8/artifacts/models'), status='READY', status_message=None, tags={}, user_id=None, version=3>]"
      ]
     },
     "execution_count": 57,
     "metadata": {},
     "output_type": "execute_result"
    }
   ],
   "source": [
    "#### list the versions of models in the model registry nyc-taxi-regresor\n",
    "\n",
    "model_name = 'nyc-taxi-regressor'\n",
    "latest_version = client.get_latest_versions(name=model_name)\n",
    "\n",
    "\n",
    "latest_version"
   ]
  },
  {
   "cell_type": "code",
   "execution_count": 60,
   "metadata": {},
   "outputs": [
    {
     "name": "stderr",
     "output_type": "stream",
     "text": [
      "/tmp/ipykernel_35381/3482683217.py:1: FutureWarning: ``mlflow.tracking.client.MlflowClient.transition_model_version_stage`` is deprecated since 2.9.0. Model registry stages will be removed in a future major release. To learn more about the deprecation of model registry stages, see our migration guide here: https://mlflow.org/docs/2.11.1/model-registry.html#migrating-from-stages\n",
      "  client.transition_model_version_stage(\n"
     ]
    },
    {
     "data": {
      "text/plain": [
       "<ModelVersion: aliases=[], creation_timestamp=1711165902240, current_stage='Staging', description=None, last_updated_timestamp=1711167459288, name='nyc-taxi-regressor', run_id='121383de0e8d4b9bbc5c9975b54554a8', run_link=None, source=('/workspaces/mlops-zoomcamp/2. '\n",
       " 'experiment-tracking/mlruns/3/121383de0e8d4b9bbc5c9975b54554a8/artifacts/models'), status='READY', status_message=None, tags={}, user_id=None, version=3>"
      ]
     },
     "execution_count": 60,
     "metadata": {},
     "output_type": "execute_result"
    }
   ],
   "source": [
    "# transition a model version 3 from none to staging\n",
    "\n",
    "client.transition_model_version_stage(\n",
    "    name=model_name,\n",
    "    version=3,\n",
    "    stage='Staging',\n",
    "    archive_existing_versions=False\n",
    ")"
   ]
  },
  {
   "cell_type": "code",
   "execution_count": 61,
   "metadata": {},
   "outputs": [
    {
     "name": "stderr",
     "output_type": "stream",
     "text": [
      "/tmp/ipykernel_35381/3056626365.py:1: FutureWarning: ``mlflow.tracking.client.MlflowClient.transition_model_version_stage`` is deprecated since 2.9.0. Model registry stages will be removed in a future major release. To learn more about the deprecation of model registry stages, see our migration guide here: https://mlflow.org/docs/2.11.1/model-registry.html#migrating-from-stages\n",
      "  client.transition_model_version_stage(name=model_name, version=1, stage='Production', archive_existing_versions=False)\n"
     ]
    },
    {
     "data": {
      "text/plain": [
       "<ModelVersion: aliases=[], creation_timestamp=1711153413271, current_stage='Production', description='', last_updated_timestamp=1711168007264, name='nyc-taxi-regressor', run_id='4c0b7f27605e45ca8b14f7502cf73e52', run_link='', source=('/workspaces/mlops-zoomcamp/2. '\n",
       " 'experiment-tracking/mlruns/3/4c0b7f27605e45ca8b14f7502cf73e52/artifacts/models'), status='READY', status_message=None, tags={'model': 'Gradient Boosting Regressor'}, user_id=None, version=1>"
      ]
     },
     "execution_count": 61,
     "metadata": {},
     "output_type": "execute_result"
    }
   ],
   "source": [
    "# transition a model version 1 from none to production\n",
    "\n",
    "client.transition_model_version_stage(\n",
    "    name=model_name, \n",
    "    version=1, \n",
    "    stage='Production', \n",
    "    archive_existing_versions=False)"
   ]
  },
  {
   "cell_type": "code",
   "execution_count": 65,
   "metadata": {},
   "outputs": [
    {
     "name": "stderr",
     "output_type": "stream",
     "text": [
      "/tmp/ipykernel_35381/3451263181.py:4: FutureWarning: ``mlflow.tracking.client.MlflowClient.transition_model_version_stage`` is deprecated since 2.9.0. Model registry stages will be removed in a future major release. To learn more about the deprecation of model registry stages, see our migration guide here: https://mlflow.org/docs/2.11.1/model-registry.html#migrating-from-stages\n",
      "  client.transition_model_version_stage(\n"
     ]
    },
    {
     "data": {
      "text/plain": [
       "<ModelVersion: aliases=[], creation_timestamp=1711153726749, current_stage='Archived', description='', last_updated_timestamp=1711169034047, name='nyc-taxi-regressor', run_id='005192b72ed64163891853177fe5a10c', run_link='', source=('/workspaces/mlops-zoomcamp/2. '\n",
       " 'experiment-tracking/mlruns/3/005192b72ed64163891853177fe5a10c/artifacts/models'), status='READY', status_message=None, tags={'model': 'Random Forest Regressor '}, user_id=None, version=2>"
      ]
     },
     "execution_count": 65,
     "metadata": {},
     "output_type": "execute_result"
    }
   ],
   "source": [
    "# transition a model version 2 from none to archived\n",
    "\n",
    "\n",
    "client.transition_model_version_stage(\n",
    "    name=model_name,\n",
    "    version=2,\n",
    "    stage='Archived',\n",
    "    archive_existing_versions=False\n",
    ")"
   ]
  },
  {
   "cell_type": "code",
   "execution_count": 62,
   "metadata": {},
   "outputs": [
    {
     "data": {
      "text/plain": [
       "<ModelVersion: aliases=[], creation_timestamp=1711153413271, current_stage='Production', description='this model version is in Production stage', last_updated_timestamp=1711168529875, name='nyc-taxi-regressor', run_id='4c0b7f27605e45ca8b14f7502cf73e52', run_link='', source=('/workspaces/mlops-zoomcamp/2. '\n",
       " 'experiment-tracking/mlruns/3/4c0b7f27605e45ca8b14f7502cf73e52/artifacts/models'), status='READY', status_message=None, tags={'model': 'Gradient Boosting Regressor'}, user_id=None, version=1>"
      ]
     },
     "execution_count": 62,
     "metadata": {},
     "output_type": "execute_result"
    }
   ],
   "source": [
    "# to update description of model version\n",
    "\n",
    "client.update_model_version(\n",
    "    name=model_name,\n",
    "    version=1,\n",
    "    description='this model version is in Production stage'\n",
    ")"
   ]
  },
  {
   "cell_type": "code",
   "execution_count": null,
   "metadata": {},
   "outputs": [],
   "source": []
  }
 ],
 "metadata": {
  "kernelspec": {
   "display_name": "Python 3",
   "language": "python",
   "name": "python3"
  },
  "language_info": {
   "codemirror_mode": {
    "name": "ipython",
    "version": 3
   },
   "file_extension": ".py",
   "mimetype": "text/x-python",
   "name": "python",
   "nbconvert_exporter": "python",
   "pygments_lexer": "ipython3",
   "version": "3.10.13"
  }
 },
 "nbformat": 4,
 "nbformat_minor": 2
}
